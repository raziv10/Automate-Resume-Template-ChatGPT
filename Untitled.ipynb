{
 "cells": [
  {
   "cell_type": "code",
   "execution_count": 94,
   "id": "4df842ed-7bb6-4e95-9bfb-5df0639b51ab",
   "metadata": {},
   "outputs": [],
   "source": [
    "def job_description():\n",
    "    NAME = input(\"Company Name: \")\n",
    "    LOCATION = input(\"Company Location: \")\n",
    "    POSITION = input(\"Position: \")\n",
    "    COMPANY_DESCRIPTION = input(\"Compnay Description: \")\n",
    "    JOB_DESCRIPTION = input(\"Job Description: \")\n",
    "    QUALIFICATION = input(\"Skills/Qualification: \")\n",
    "    \n",
    "    template={\n",
    "        'company':[\n",
    "            {\n",
    "            'name':NAME,\n",
    "            'location':LOCATION,\n",
    "            'position':POSITION,\n",
    "            'background':COMPANY_DESCRIPTION\n",
    "            }\n",
    "        ],\n",
    "        'description':JOB_DESCRIPTION,\n",
    "        'skills':QUALIFICATION\n",
    "    }\n",
    "    return template"
   ]
  },
  {
   "cell_type": "code",
   "execution_count": 95,
   "id": "6238f7cd-b3d2-4819-b8fa-66522cdc7f95",
   "metadata": {},
   "outputs": [
    {
     "name": "stdin",
     "output_type": "stream",
     "text": [
      "Company Name:  X\n",
      "Company Location:  Toronto\n",
      "Position:  Intern\n",
      "Compnay Description:  Helps human\n",
      "Job Description:  some description\n",
      "Skills/Qualification:  python\n"
     ]
    }
   ],
   "source": [
    "result=job_description()"
   ]
  },
  {
   "cell_type": "code",
   "execution_count": null,
   "id": "7344124a-0f79-40d7-963f-e71ee0fc60c7",
   "metadata": {},
   "outputs": [],
   "source": []
  },
  {
   "cell_type": "code",
   "execution_count": 98,
   "id": "660a461b-438c-47fe-b546-7f1dc1a370b6",
   "metadata": {},
   "outputs": [
    {
     "ename": "ModuleNotFoundError",
     "evalue": "No module named 'mailmerge'",
     "output_type": "error",
     "traceback": [
      "\u001b[0;31m---------------------------------------------------------------------------\u001b[0m",
      "\u001b[0;31mModuleNotFoundError\u001b[0m                       Traceback (most recent call last)",
      "Input \u001b[0;32mIn [98]\u001b[0m, in \u001b[0;36m<cell line: 1>\u001b[0;34m()\u001b[0m\n\u001b[0;32m----> 1\u001b[0m \u001b[38;5;28;01mfrom\u001b[39;00m \u001b[38;5;21;01mmailmerge\u001b[39;00m \u001b[38;5;28;01mimport\u001b[39;00m MailMerge\n",
      "\u001b[0;31mModuleNotFoundError\u001b[0m: No module named 'mailmerge'"
     ]
    }
   ],
   "source": [
    "from mailmerge import MailMerge"
   ]
  },
  {
   "cell_type": "code",
   "execution_count": null,
   "id": "666b7628-72c7-46c9-87c8-eef0b3c18376",
   "metadata": {},
   "outputs": [],
   "source": [
    "'data/template.docx'"
   ]
  }
 ],
 "metadata": {
  "kernelspec": {
   "display_name": "Python 3 (ipykernel)",
   "language": "python",
   "name": "python3"
  },
  "language_info": {
   "codemirror_mode": {
    "name": "ipython",
    "version": 3
   },
   "file_extension": ".py",
   "mimetype": "text/x-python",
   "name": "python",
   "nbconvert_exporter": "python",
   "pygments_lexer": "ipython3",
   "version": "3.9.12"
  }
 },
 "nbformat": 4,
 "nbformat_minor": 5
}
