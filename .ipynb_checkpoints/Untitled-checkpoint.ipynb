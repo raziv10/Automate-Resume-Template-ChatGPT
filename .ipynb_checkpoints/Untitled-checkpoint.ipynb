{
 "cells": [
  {
   "cell_type": "code",
   "execution_count": 94,
   "id": "4df842ed-7bb6-4e95-9bfb-5df0639b51ab",
   "metadata": {},
   "outputs": [],
   "source": [
    "def job_description():\n",
    "    NAME = input(\"Company Name: \")\n",
    "    LOCATION = input(\"Company Location: \")\n",
    "    POSITION = input(\"Position: \")\n",
    "    COMPANY_DESCRIPTION = input(\"Compnay Description: \")\n",
    "    JOB_DESCRIPTION = input(\"Job Description: \")\n",
    "    QUALIFICATION = input(\"Skills/Qualification: \")\n",
    "    \n",
    "    template={\n",
    "        'company':[\n",
    "            {\n",
    "            'name':NAME,\n",
    "            'location':LOCATION,\n",
    "            'position':POSITION,\n",
    "            'background':COMPANY_DESCRIPTION\n",
    "            }\n",
    "        ],\n",
    "        'description':JOB_DESCRIPTION,\n",
    "        'skills':QUALIFICATION\n",
    "    }\n",
    "    return template"
   ]
  },
  {
   "cell_type": "code",
   "execution_count": 95,
   "id": "6238f7cd-b3d2-4819-b8fa-66522cdc7f95",
   "metadata": {},
   "outputs": [
    {
     "name": "stdin",
     "output_type": "stream",
     "text": [
      "Company Name:  X\n",
      "Company Location:  Toronto\n",
      "Position:  Intern\n",
      "Compnay Description:  Helps human\n",
      "Job Description:  some description\n",
      "Skills/Qualification:  python\n"
     ]
    }
   ],
   "source": [
    "result=job_description()"
   ]
  },
  {
   "cell_type": "code",
   "execution_count": null,
   "id": "7344124a-0f79-40d7-963f-e71ee0fc60c7",
   "metadata": {},
   "outputs": [],
   "source": []
  },
  {
   "cell_type": "code",
   "execution_count": 178,
   "id": "660a461b-438c-47fe-b546-7f1dc1a370b6",
   "metadata": {},
   "outputs": [],
   "source": [
    "with open('data/template_CIBC.txt', 'r') as f:\n",
    "    txt = f.read()\n",
    "    sp = txt.split('|')\n",
    "    \n"
   ]
  },
  {
   "cell_type": "code",
   "execution_count": 254,
   "id": "24314d1d-e419-4e43-a4e8-38ee22321fc1",
   "metadata": {},
   "outputs": [
    {
     "data": {
      "text/plain": [
       "'Location'"
      ]
     },
     "execution_count": 254,
     "metadata": {},
     "output_type": "execute_result"
    }
   ],
   "source": [
    "sp[1].split(':')[0].strip()"
   ]
  },
  {
   "cell_type": "code",
   "execution_count": 257,
   "id": "3ea9119e-3c92-4d47-91f1-eb2c9d20da61",
   "metadata": {},
   "outputs": [],
   "source": [
    "sp[1].split(':')[0]=sp[1].split(':')[0].strip()"
   ]
  },
  {
   "cell_type": "code",
   "execution_count": 266,
   "id": "a55180c9-c806-4c70-bf7f-1a47e1a2c62b",
   "metadata": {},
   "outputs": [
    {
     "name": "stdout",
     "output_type": "stream",
     "text": [
      " Toronto \n"
     ]
    }
   ],
   "source": [
    "if '\\nLocation' in sp[1].split(':')[0]:\n",
    "    \n",
    "    print(sp[1].split(':')[1])"
   ]
  },
  {
   "cell_type": "code",
   "execution_count": 279,
   "id": "666b7628-72c7-46c9-87c8-eef0b3c18376",
   "metadata": {},
   "outputs": [],
   "source": [
    "def create_new_file():\n",
    "    \n",
    "    f = open(\"data/template.txt\", \"w\")\n",
    "    f.write(\"\"\"Name: |\\n\\nLocation: |\\n\\nPosition: |\n",
    "            \\nCompany Description: |\\n\\nJob Description: |\n",
    "            \\nQualification: |\"\"\")\n",
    "    f.close()\n"
   ]
  },
  {
   "cell_type": "code",
   "execution_count": 280,
   "id": "29ff0fae-183e-4f0c-8bc1-cdfddeb4d8be",
   "metadata": {},
   "outputs": [],
   "source": [
    "import os\n",
    "def reuse_template(template):\n",
    "    with open(template, 'r') as f:\n",
    "        txt = f.read()\n",
    "        record = txt.split('|')\n",
    "    old_file=template\n",
    "    file_pattern=  old_file.split('.')\n",
    "    new_file=file_pattern[0]+'_'+record[0].split(':')[1].strip()+'.'+file_pattern[1]\n",
    "    os.rename(old_file,new_file)\n",
    "    create_new_file()\n",
    "    return record\n"
   ]
  },
  {
   "cell_type": "code",
   "execution_count": 287,
   "id": "7a00f5d3-fa45-43ba-af05-6d7fa743781c",
   "metadata": {},
   "outputs": [],
   "source": [
    "record=reuse_template('data/template.txt')"
   ]
  },
  {
   "cell_type": "code",
   "execution_count": 238,
   "id": "81f79878-0228-430b-aab2-639843abfe14",
   "metadata": {},
   "outputs": [
    {
     "data": {
      "text/plain": [
       "'\\n            \\nCompany Description: asdwdwddw\\ndswwdw\\ndwdw\\ndwd'"
      ]
     },
     "execution_count": 238,
     "metadata": {},
     "output_type": "execute_result"
    }
   ],
   "source": [
    "record[3]"
   ]
  },
  {
   "cell_type": "code",
   "execution_count": 240,
   "id": "01519fde-17a2-4887-9789-3e9e53520398",
   "metadata": {},
   "outputs": [
    {
     "data": {
      "text/plain": [
       "'asdwdwddw dswwdw dwdw dwd'"
      ]
     },
     "execution_count": 240,
     "metadata": {},
     "output_type": "execute_result"
    }
   ],
   "source": [
    "record[3].split(':')[1].replace('\\n',' ').rstrip().lstrip()"
   ]
  },
  {
   "cell_type": "code",
   "execution_count": null,
   "id": "8408f0c7-4347-4f89-8d25-957035203181",
   "metadata": {},
   "outputs": [],
   "source": []
  }
 ],
 "metadata": {
  "kernelspec": {
   "display_name": "Python 3 (ipykernel)",
   "language": "python",
   "name": "python3"
  },
  "language_info": {
   "codemirror_mode": {
    "name": "ipython",
    "version": 3
   },
   "file_extension": ".py",
   "mimetype": "text/x-python",
   "name": "python",
   "nbconvert_exporter": "python",
   "pygments_lexer": "ipython3",
   "version": "3.9.12"
  }
 },
 "nbformat": 4,
 "nbformat_minor": 5
}
